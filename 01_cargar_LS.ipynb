{
 "cells": [
  {
   "cell_type": "markdown",
   "id": "00faa1c6",
   "metadata": {},
   "source": [
    "\n",
    "# Carga y Consolidación de CSV por subcarpetas **LS1..LS6**\n",
    "\n",
    "Este notebook:\n",
    "- Detecta subcarpetas cuyo nombre empieza por `LS` (LS1..LS6).\n",
    "- Lee **todos** los `.csv` dentro de cada subcarpeta (recursivo).\n",
    "- Crea un DataFrame por subcarpeta: `df_ls1`, `df_ls2`, ... (solo si existen).\n",
    "- Expone también `dfs_por_ls` (dict) y guarda opcionalmente a **Parquet**.\n",
    "\n",
    "> **Ruta esperada:** por defecto, el directorio `data_drive` debe estar en la misma carpeta que este notebook.  \n",
    "> Alternativa: sube un ZIP llamado `data_drive.zip` junto a este notebook; el notebook lo descomprimirá automáticamente.\n"
   ]
  },
  {
   "cell_type": "code",
   "execution_count": 1,
   "id": "a6706e66",
   "metadata": {},
   "outputs": [
    {
     "name": "stdout",
     "output_type": "stream",
     "text": [
      "Engine de lectura seleccionado: pyarrow\n",
      "Versión de pandas: 2.3.0\n"
     ]
    }
   ],
   "source": [
    "\n",
    "# %% [setup]\n",
    "from __future__ import annotations\n",
    "import logging\n",
    "import re\n",
    "from pathlib import Path\n",
    "from typing import Dict, List, Optional\n",
    "\n",
    "import pandas as pd\n",
    "\n",
    "logging.basicConfig(\n",
    "    level=logging.INFO,\n",
    "    format=\"%(asctime)s | %(levelname)s | %(message)s\",\n",
    "    datefmt=\"%H:%M:%S\",\n",
    ")\n",
    "\n",
    "# Selección de engine de lectura para pandas\n",
    "_ENGINE: str = \"python\"\n",
    "try:\n",
    "    import pyarrow  # noqa: F401\n",
    "    _ENGINE = \"pyarrow\"\n",
    "except Exception:\n",
    "    _ENGINE = \"python\"\n",
    "\n",
    "print(f\"Engine de lectura seleccionado: {_ENGINE}\")\n",
    "print(f\"Versión de pandas: {pd.__version__}\")\n"
   ]
  },
  {
   "cell_type": "code",
   "execution_count": 2,
   "id": "c097cd58",
   "metadata": {},
   "outputs": [
    {
     "name": "stdout",
     "output_type": "stream",
     "text": [
      "No se encontró data_drive.zip (no es obligatorio si ya existe la carpeta data_drive/)\n"
     ]
    }
   ],
   "source": [
    "\n",
    "# %% [optional unzip]\n",
    "# Si has subido un ZIP con la carpeta: data_drive.zip, lo descomprimimos aquí.\n",
    "from zipfile import ZipFile\n",
    "\n",
    "zip_path = Path(\"data_drive.zip\")\n",
    "if zip_path.exists():\n",
    "    print(\"Detectado data_drive.zip -> descomprimiendo...\")\n",
    "    with ZipFile(zip_path, \"r\") as zf:\n",
    "        zf.extractall(\".\")\n",
    "    print(\"Descompresión completada.\")\n",
    "else:\n",
    "    print(\"No se encontró data_drive.zip (no es obligatorio si ya existe la carpeta data_drive/)\")\n"
   ]
  },
  {
   "cell_type": "code",
   "execution_count": 3,
   "id": "9f190517",
   "metadata": {},
   "outputs": [
    {
     "name": "stdout",
     "output_type": "stream",
     "text": [
      "Directorio raíz: D:\\ls_feed\\data_drive\n"
     ]
    }
   ],
   "source": [
    "\n",
    "# %% [config]\n",
    "# Ruta raíz donde están las subcarpetas LS1..LS6\n",
    "RAIZ = Path(\"data_drive\")\n",
    "\n",
    "assert RAIZ.exists() and RAIZ.is_dir(), (\n",
    "    f\"No se encontró la carpeta '{RAIZ.resolve()}'.\\n\"\n",
    "    \"Coloca aquí tu carpeta descargada desde Drive o sube 'data_drive.zip' y vuelve a ejecutar la celda anterior.\"\n",
    ")\n",
    "\n",
    "print(\"Directorio raíz:\", RAIZ.resolve())\n"
   ]
  },
  {
   "cell_type": "code",
   "execution_count": 4,
   "id": "e317a4ae",
   "metadata": {},
   "outputs": [],
   "source": [
    "\n",
    "# %% [funciones]\n",
    "def listar_dirs_ls(raiz: Path) -> List[Path]:\n",
    "    patron = re.compile(r\"^LS([1-6])(?:\\b|[_\\-].*)?$\", flags=re.IGNORECASE)\n",
    "    dirs = [p for p in raiz.iterdir() if p.is_dir() and patron.match(p.name)]\n",
    "    return sorted(dirs, key=lambda x: x.name.lower())\n",
    "\n",
    "def leer_csv_con_robustez(path_csv: Path) -> pd.DataFrame:\n",
    "    posibles_sep = [\",\", \";\", \"\\t\", \"|\"]\n",
    "    for sep in posibles_sep:\n",
    "        try:\n",
    "            df = pd.read_csv(path_csv, sep=sep, engine=_ENGINE)\n",
    "            df[\"source_file\"] = str(path_csv)\n",
    "            return df\n",
    "        except Exception:\n",
    "            pass\n",
    "    for sep in posibles_sep:\n",
    "        try:\n",
    "            df = pd.read_csv(path_csv, sep=sep, engine=\"python\")\n",
    "            df[\"source_file\"] = str(path_csv)\n",
    "            return df\n",
    "        except Exception:\n",
    "            pass\n",
    "    raise RuntimeError(f\"No se pudo leer el CSV: {path_csv}\")\n",
    "\n",
    "def concat_csvs_de_directorio(dir_ls: Path) -> Optional[pd.DataFrame]:\n",
    "    csvs = sorted(dir_ls.rglob(\"*.csv\"))\n",
    "    if not csvs:\n",
    "        logging.warning(\"Sin CSVs en %s\", dir_ls)\n",
    "        return None\n",
    "    frames = []\n",
    "    for csv_path in csvs:\n",
    "        try:\n",
    "            frames.append(leer_csv_con_robustez(csv_path))\n",
    "        except Exception as e:\n",
    "            logging.error(\"Error leyendo %s: %s\", csv_path, e)\n",
    "    if not frames:\n",
    "        return None\n",
    "    df = pd.concat(frames, ignore_index=True, copy=False)\n",
    "    return df\n",
    "\n",
    "def construir_dataframes_por_ls(raiz_descarga: Path) -> Dict[str, pd.DataFrame]:\n",
    "    res: Dict[str, pd.DataFrame] = {}\n",
    "    for dir_ls in listar_dirs_ls(raiz_descarga):\n",
    "        m = re.match(r\"^LS([1-6])\", dir_ls.name, flags=re.IGNORECASE)\n",
    "        if not m:\n",
    "            continue\n",
    "        idx = m.group(1)\n",
    "        df = concat_csvs_de_directorio(dir_ls)\n",
    "        if df is not None:\n",
    "            res[f\"ls{idx}\"] = df\n",
    "    return res\n",
    "\n",
    "def exponer_variables_globales(dfs_por_ls: Dict[str, pd.DataFrame]) -> None:\n",
    "    for clave, df in dfs_por_ls.items():\n",
    "        var_name = f\"df_{clave}\"\n",
    "        globals()[var_name] = df\n",
    "        logging.info(\"Creada variable: %s  shape=%s\", var_name, df.shape)\n"
   ]
  },
  {
   "cell_type": "code",
   "execution_count": 5,
   "id": "150836c4",
   "metadata": {},
   "outputs": [
    {
     "name": "stderr",
     "output_type": "stream",
     "text": [
      "14:15:48 | INFO | Creada variable: df_ls1  shape=(1059, 2)\n",
      "14:15:48 | INFO | Creada variable: df_ls2  shape=(903, 2)\n",
      "14:15:48 | INFO | Creada variable: df_ls3  shape=(1057, 2)\n",
      "14:15:48 | INFO | Creada variable: df_ls4  shape=(1057, 2)\n",
      "14:15:48 | INFO | Creada variable: df_ls5  shape=(1059, 2)\n",
      "14:15:48 | INFO | Creada variable: df_ls6  shape=(16, 2)\n"
     ]
    },
    {
     "data": {
      "text/plain": [
       "{'ls1': (1059, 2),\n",
       " 'ls2': (903, 2),\n",
       " 'ls3': (1057, 2),\n",
       " 'ls4': (1057, 2),\n",
       " 'ls5': (1059, 2),\n",
       " 'ls6': (16, 2)}"
      ]
     },
     "execution_count": 5,
     "metadata": {},
     "output_type": "execute_result"
    }
   ],
   "source": [
    "\n",
    "# %% [ejecución principal]\n",
    "dfs_por_ls = construir_dataframes_por_ls(RAIZ)\n",
    "exponer_variables_globales(dfs_por_ls)\n",
    "\n",
    "if not dfs_por_ls:\n",
    "    raise SystemExit(\"No se encontraron subcarpetas LS con CSVs bajo la ruta indicada.\")\n",
    "\n",
    "# Resumen\n",
    "resumen = {k: v.shape for k, v in dfs_por_ls.items()}\n",
    "resumen\n"
   ]
  },
  {
   "cell_type": "code",
   "execution_count": 6,
   "id": "ae0ada8e",
   "metadata": {},
   "outputs": [
    {
     "name": "stdout",
     "output_type": "stream",
     "text": [
      "\n",
      "=== Vista previa df_ls1 ===\n"
     ]
    },
    {
     "data": {
      "application/vnd.microsoft.datawrangler.viewer.v0+json": {
       "columns": [
        {
         "name": "index",
         "rawType": "int64",
         "type": "integer"
        },
        {
         "name": "mac;time;vlx",
         "rawType": "object",
         "type": "string"
        },
        {
         "name": "source_file",
         "rawType": "object",
         "type": "string"
        }
       ],
       "ref": "6793ae38-d89c-48a8-94d2-42bb4d42c4b3",
       "rows": [
        [
         "0",
         "40:22:D8:F1:E3:70;2025/07/15 11:44:19;316.00",
         "data_drive\\LS1\\silos_vlx_1.csv"
        ],
        [
         "1",
         "40:22:D8:F1:E3:70;2025/07/15 12:14:21;317.00",
         "data_drive\\LS1\\silos_vlx_1.csv"
        ],
        [
         "2",
         "40:22:D8:F1:E3:70;2025/07/15 12:44:22;326.00",
         "data_drive\\LS1\\silos_vlx_1.csv"
        ],
        [
         "3",
         "40:22:D8:F1:E3:70;2025/07/15 13:14:24;315.00",
         "data_drive\\LS1\\silos_vlx_1.csv"
        ],
        [
         "4",
         "40:22:D8:F1:E3:70;2025/07/15 13:44:26;316.00",
         "data_drive\\LS1\\silos_vlx_1.csv"
        ],
        [
         "5",
         "40:22:D8:F1:E3:70;2025/07/15 14:14:27;308.00",
         "data_drive\\LS1\\silos_vlx_1.csv"
        ],
        [
         "6",
         "40:22:D8:F1:E3:70;2025/07/15 14:44:29;309.00",
         "data_drive\\LS1\\silos_vlx_1.csv"
        ],
        [
         "7",
         "40:22:D8:F1:E3:70;2025/07/15 15:14:30;309.00",
         "data_drive\\LS1\\silos_vlx_1.csv"
        ],
        [
         "8",
         "40:22:D8:F1:E3:70;2025/07/15 15:44:32;310.00",
         "data_drive\\LS1\\silos_vlx_1.csv"
        ],
        [
         "9",
         "40:22:D8:F1:E3:70;2025/07/15 16:14:33;316.00",
         "data_drive\\LS1\\silos_vlx_1.csv"
        ]
       ],
       "shape": {
        "columns": 2,
        "rows": 10
       }
      },
      "text/html": [
       "<div>\n",
       "<style scoped>\n",
       "    .dataframe tbody tr th:only-of-type {\n",
       "        vertical-align: middle;\n",
       "    }\n",
       "\n",
       "    .dataframe tbody tr th {\n",
       "        vertical-align: top;\n",
       "    }\n",
       "\n",
       "    .dataframe thead th {\n",
       "        text-align: right;\n",
       "    }\n",
       "</style>\n",
       "<table border=\"1\" class=\"dataframe\">\n",
       "  <thead>\n",
       "    <tr style=\"text-align: right;\">\n",
       "      <th></th>\n",
       "      <th>mac;time;vlx</th>\n",
       "      <th>source_file</th>\n",
       "    </tr>\n",
       "  </thead>\n",
       "  <tbody>\n",
       "    <tr>\n",
       "      <th>0</th>\n",
       "      <td>40:22:D8:F1:E3:70;2025/07/15 11:44:19;316.00</td>\n",
       "      <td>data_drive\\LS1\\silos_vlx_1.csv</td>\n",
       "    </tr>\n",
       "    <tr>\n",
       "      <th>1</th>\n",
       "      <td>40:22:D8:F1:E3:70;2025/07/15 12:14:21;317.00</td>\n",
       "      <td>data_drive\\LS1\\silos_vlx_1.csv</td>\n",
       "    </tr>\n",
       "    <tr>\n",
       "      <th>2</th>\n",
       "      <td>40:22:D8:F1:E3:70;2025/07/15 12:44:22;326.00</td>\n",
       "      <td>data_drive\\LS1\\silos_vlx_1.csv</td>\n",
       "    </tr>\n",
       "    <tr>\n",
       "      <th>3</th>\n",
       "      <td>40:22:D8:F1:E3:70;2025/07/15 13:14:24;315.00</td>\n",
       "      <td>data_drive\\LS1\\silos_vlx_1.csv</td>\n",
       "    </tr>\n",
       "    <tr>\n",
       "      <th>4</th>\n",
       "      <td>40:22:D8:F1:E3:70;2025/07/15 13:44:26;316.00</td>\n",
       "      <td>data_drive\\LS1\\silos_vlx_1.csv</td>\n",
       "    </tr>\n",
       "    <tr>\n",
       "      <th>5</th>\n",
       "      <td>40:22:D8:F1:E3:70;2025/07/15 14:14:27;308.00</td>\n",
       "      <td>data_drive\\LS1\\silos_vlx_1.csv</td>\n",
       "    </tr>\n",
       "    <tr>\n",
       "      <th>6</th>\n",
       "      <td>40:22:D8:F1:E3:70;2025/07/15 14:44:29;309.00</td>\n",
       "      <td>data_drive\\LS1\\silos_vlx_1.csv</td>\n",
       "    </tr>\n",
       "    <tr>\n",
       "      <th>7</th>\n",
       "      <td>40:22:D8:F1:E3:70;2025/07/15 15:14:30;309.00</td>\n",
       "      <td>data_drive\\LS1\\silos_vlx_1.csv</td>\n",
       "    </tr>\n",
       "    <tr>\n",
       "      <th>8</th>\n",
       "      <td>40:22:D8:F1:E3:70;2025/07/15 15:44:32;310.00</td>\n",
       "      <td>data_drive\\LS1\\silos_vlx_1.csv</td>\n",
       "    </tr>\n",
       "    <tr>\n",
       "      <th>9</th>\n",
       "      <td>40:22:D8:F1:E3:70;2025/07/15 16:14:33;316.00</td>\n",
       "      <td>data_drive\\LS1\\silos_vlx_1.csv</td>\n",
       "    </tr>\n",
       "  </tbody>\n",
       "</table>\n",
       "</div>"
      ],
      "text/plain": [
       "                                   mac;time;vlx  \\\n",
       "0  40:22:D8:F1:E3:70;2025/07/15 11:44:19;316.00   \n",
       "1  40:22:D8:F1:E3:70;2025/07/15 12:14:21;317.00   \n",
       "2  40:22:D8:F1:E3:70;2025/07/15 12:44:22;326.00   \n",
       "3  40:22:D8:F1:E3:70;2025/07/15 13:14:24;315.00   \n",
       "4  40:22:D8:F1:E3:70;2025/07/15 13:44:26;316.00   \n",
       "5  40:22:D8:F1:E3:70;2025/07/15 14:14:27;308.00   \n",
       "6  40:22:D8:F1:E3:70;2025/07/15 14:44:29;309.00   \n",
       "7  40:22:D8:F1:E3:70;2025/07/15 15:14:30;309.00   \n",
       "8  40:22:D8:F1:E3:70;2025/07/15 15:44:32;310.00   \n",
       "9  40:22:D8:F1:E3:70;2025/07/15 16:14:33;316.00   \n",
       "\n",
       "                      source_file  \n",
       "0  data_drive\\LS1\\silos_vlx_1.csv  \n",
       "1  data_drive\\LS1\\silos_vlx_1.csv  \n",
       "2  data_drive\\LS1\\silos_vlx_1.csv  \n",
       "3  data_drive\\LS1\\silos_vlx_1.csv  \n",
       "4  data_drive\\LS1\\silos_vlx_1.csv  \n",
       "5  data_drive\\LS1\\silos_vlx_1.csv  \n",
       "6  data_drive\\LS1\\silos_vlx_1.csv  \n",
       "7  data_drive\\LS1\\silos_vlx_1.csv  \n",
       "8  data_drive\\LS1\\silos_vlx_1.csv  \n",
       "9  data_drive\\LS1\\silos_vlx_1.csv  "
      ]
     },
     "metadata": {},
     "output_type": "display_data"
    },
    {
     "name": "stdout",
     "output_type": "stream",
     "text": [
      "\n",
      "=== Vista previa df_ls2 ===\n"
     ]
    },
    {
     "data": {
      "application/vnd.microsoft.datawrangler.viewer.v0+json": {
       "columns": [
        {
         "name": "index",
         "rawType": "int64",
         "type": "integer"
        },
        {
         "name": "mac;time;vlx",
         "rawType": "object",
         "type": "string"
        },
        {
         "name": "source_file",
         "rawType": "object",
         "type": "string"
        }
       ],
       "ref": "1b77d5fe-6931-4bd6-857c-21c3a9840c76",
       "rows": [
        [
         "0",
         "40:22:D8:F1:E2:CC;2025/07/15 11:44:46;272.00",
         "data_drive\\LS2\\silos_vlx_0.csv"
        ],
        [
         "1",
         "40:22:D8:F1:E2:CC;2025/07/15 12:14:48;283.00",
         "data_drive\\LS2\\silos_vlx_0.csv"
        ],
        [
         "2",
         "40:22:D8:F1:E2:CC;2025/07/15 12:44:49;283.00",
         "data_drive\\LS2\\silos_vlx_0.csv"
        ],
        [
         "3",
         "40:22:D8:F1:E2:CC;2025/07/15 13:14:51;281.00",
         "data_drive\\LS2\\silos_vlx_0.csv"
        ],
        [
         "4",
         "40:22:D8:F1:E2:CC;2025/07/15 13:44:53;278.00",
         "data_drive\\LS2\\silos_vlx_0.csv"
        ],
        [
         "5",
         "40:22:D8:F1:E2:CC;2025/07/15 14:14:54;279.00",
         "data_drive\\LS2\\silos_vlx_0.csv"
        ],
        [
         "6",
         "40:22:D8:F1:E2:CC;2025/07/15 14:44:56;285.00",
         "data_drive\\LS2\\silos_vlx_0.csv"
        ],
        [
         "7",
         "40:22:D8:F1:E2:CC;2025/07/15 15:14:57;281.00",
         "data_drive\\LS2\\silos_vlx_0.csv"
        ],
        [
         "8",
         "40:22:D8:F1:E2:CC;2025/07/15 15:44:59;277.00",
         "data_drive\\LS2\\silos_vlx_0.csv"
        ],
        [
         "9",
         "40:22:D8:F1:E2:CC;2025/07/15 16:15:00;276.00",
         "data_drive\\LS2\\silos_vlx_0.csv"
        ]
       ],
       "shape": {
        "columns": 2,
        "rows": 10
       }
      },
      "text/html": [
       "<div>\n",
       "<style scoped>\n",
       "    .dataframe tbody tr th:only-of-type {\n",
       "        vertical-align: middle;\n",
       "    }\n",
       "\n",
       "    .dataframe tbody tr th {\n",
       "        vertical-align: top;\n",
       "    }\n",
       "\n",
       "    .dataframe thead th {\n",
       "        text-align: right;\n",
       "    }\n",
       "</style>\n",
       "<table border=\"1\" class=\"dataframe\">\n",
       "  <thead>\n",
       "    <tr style=\"text-align: right;\">\n",
       "      <th></th>\n",
       "      <th>mac;time;vlx</th>\n",
       "      <th>source_file</th>\n",
       "    </tr>\n",
       "  </thead>\n",
       "  <tbody>\n",
       "    <tr>\n",
       "      <th>0</th>\n",
       "      <td>40:22:D8:F1:E2:CC;2025/07/15 11:44:46;272.00</td>\n",
       "      <td>data_drive\\LS2\\silos_vlx_0.csv</td>\n",
       "    </tr>\n",
       "    <tr>\n",
       "      <th>1</th>\n",
       "      <td>40:22:D8:F1:E2:CC;2025/07/15 12:14:48;283.00</td>\n",
       "      <td>data_drive\\LS2\\silos_vlx_0.csv</td>\n",
       "    </tr>\n",
       "    <tr>\n",
       "      <th>2</th>\n",
       "      <td>40:22:D8:F1:E2:CC;2025/07/15 12:44:49;283.00</td>\n",
       "      <td>data_drive\\LS2\\silos_vlx_0.csv</td>\n",
       "    </tr>\n",
       "    <tr>\n",
       "      <th>3</th>\n",
       "      <td>40:22:D8:F1:E2:CC;2025/07/15 13:14:51;281.00</td>\n",
       "      <td>data_drive\\LS2\\silos_vlx_0.csv</td>\n",
       "    </tr>\n",
       "    <tr>\n",
       "      <th>4</th>\n",
       "      <td>40:22:D8:F1:E2:CC;2025/07/15 13:44:53;278.00</td>\n",
       "      <td>data_drive\\LS2\\silos_vlx_0.csv</td>\n",
       "    </tr>\n",
       "    <tr>\n",
       "      <th>5</th>\n",
       "      <td>40:22:D8:F1:E2:CC;2025/07/15 14:14:54;279.00</td>\n",
       "      <td>data_drive\\LS2\\silos_vlx_0.csv</td>\n",
       "    </tr>\n",
       "    <tr>\n",
       "      <th>6</th>\n",
       "      <td>40:22:D8:F1:E2:CC;2025/07/15 14:44:56;285.00</td>\n",
       "      <td>data_drive\\LS2\\silos_vlx_0.csv</td>\n",
       "    </tr>\n",
       "    <tr>\n",
       "      <th>7</th>\n",
       "      <td>40:22:D8:F1:E2:CC;2025/07/15 15:14:57;281.00</td>\n",
       "      <td>data_drive\\LS2\\silos_vlx_0.csv</td>\n",
       "    </tr>\n",
       "    <tr>\n",
       "      <th>8</th>\n",
       "      <td>40:22:D8:F1:E2:CC;2025/07/15 15:44:59;277.00</td>\n",
       "      <td>data_drive\\LS2\\silos_vlx_0.csv</td>\n",
       "    </tr>\n",
       "    <tr>\n",
       "      <th>9</th>\n",
       "      <td>40:22:D8:F1:E2:CC;2025/07/15 16:15:00;276.00</td>\n",
       "      <td>data_drive\\LS2\\silos_vlx_0.csv</td>\n",
       "    </tr>\n",
       "  </tbody>\n",
       "</table>\n",
       "</div>"
      ],
      "text/plain": [
       "                                   mac;time;vlx  \\\n",
       "0  40:22:D8:F1:E2:CC;2025/07/15 11:44:46;272.00   \n",
       "1  40:22:D8:F1:E2:CC;2025/07/15 12:14:48;283.00   \n",
       "2  40:22:D8:F1:E2:CC;2025/07/15 12:44:49;283.00   \n",
       "3  40:22:D8:F1:E2:CC;2025/07/15 13:14:51;281.00   \n",
       "4  40:22:D8:F1:E2:CC;2025/07/15 13:44:53;278.00   \n",
       "5  40:22:D8:F1:E2:CC;2025/07/15 14:14:54;279.00   \n",
       "6  40:22:D8:F1:E2:CC;2025/07/15 14:44:56;285.00   \n",
       "7  40:22:D8:F1:E2:CC;2025/07/15 15:14:57;281.00   \n",
       "8  40:22:D8:F1:E2:CC;2025/07/15 15:44:59;277.00   \n",
       "9  40:22:D8:F1:E2:CC;2025/07/15 16:15:00;276.00   \n",
       "\n",
       "                      source_file  \n",
       "0  data_drive\\LS2\\silos_vlx_0.csv  \n",
       "1  data_drive\\LS2\\silos_vlx_0.csv  \n",
       "2  data_drive\\LS2\\silos_vlx_0.csv  \n",
       "3  data_drive\\LS2\\silos_vlx_0.csv  \n",
       "4  data_drive\\LS2\\silos_vlx_0.csv  \n",
       "5  data_drive\\LS2\\silos_vlx_0.csv  \n",
       "6  data_drive\\LS2\\silos_vlx_0.csv  \n",
       "7  data_drive\\LS2\\silos_vlx_0.csv  \n",
       "8  data_drive\\LS2\\silos_vlx_0.csv  \n",
       "9  data_drive\\LS2\\silos_vlx_0.csv  "
      ]
     },
     "metadata": {},
     "output_type": "display_data"
    },
    {
     "name": "stdout",
     "output_type": "stream",
     "text": [
      "\n",
      "=== Vista previa df_ls3 ===\n"
     ]
    },
    {
     "data": {
      "application/vnd.microsoft.datawrangler.viewer.v0+json": {
       "columns": [
        {
         "name": "index",
         "rawType": "int64",
         "type": "integer"
        },
        {
         "name": "mac;time;vlx",
         "rawType": "object",
         "type": "string"
        },
        {
         "name": "source_file",
         "rawType": "object",
         "type": "string"
        }
       ],
       "ref": "3fe5b10b-478f-4bf0-b75b-4d0aa82498ce",
       "rows": [
        [
         "0",
         "40:22:D8:F1:E3:80;2025/07/15 12:07:07;286.00",
         "data_drive\\LS3\\silos_vlx_0.csv"
        ],
        [
         "1",
         "40:22:D8:F1:E3:80;2025/07/15 12:37:08;298.00",
         "data_drive\\LS3\\silos_vlx_0.csv"
        ],
        [
         "2",
         "40:22:D8:F1:E3:80;2025/07/15 13:07:10;296.00",
         "data_drive\\LS3\\silos_vlx_0.csv"
        ],
        [
         "3",
         "40:22:D8:F1:E3:80;2025/07/15 13:37:11;297.00",
         "data_drive\\LS3\\silos_vlx_0.csv"
        ],
        [
         "4",
         "40:22:D8:F1:E3:80;2025/07/15 14:07:13;303.00",
         "data_drive\\LS3\\silos_vlx_0.csv"
        ],
        [
         "5",
         "40:22:D8:F1:E3:80;2025/07/15 14:37:14;296.00",
         "data_drive\\LS3\\silos_vlx_0.csv"
        ],
        [
         "6",
         "40:22:D8:F1:E3:80;2025/07/15 15:07:16;296.00",
         "data_drive\\LS3\\silos_vlx_0.csv"
        ],
        [
         "7",
         "40:22:D8:F1:E3:80;2025/07/15 15:37:17;294.00",
         "data_drive\\LS3\\silos_vlx_0.csv"
        ],
        [
         "8",
         "40:22:D8:F1:E3:80;2025/07/15 16:07:19;292.00",
         "data_drive\\LS3\\silos_vlx_0.csv"
        ],
        [
         "9",
         "40:22:D8:F1:E3:80;2025/07/15 16:37:20;286.00",
         "data_drive\\LS3\\silos_vlx_0.csv"
        ]
       ],
       "shape": {
        "columns": 2,
        "rows": 10
       }
      },
      "text/html": [
       "<div>\n",
       "<style scoped>\n",
       "    .dataframe tbody tr th:only-of-type {\n",
       "        vertical-align: middle;\n",
       "    }\n",
       "\n",
       "    .dataframe tbody tr th {\n",
       "        vertical-align: top;\n",
       "    }\n",
       "\n",
       "    .dataframe thead th {\n",
       "        text-align: right;\n",
       "    }\n",
       "</style>\n",
       "<table border=\"1\" class=\"dataframe\">\n",
       "  <thead>\n",
       "    <tr style=\"text-align: right;\">\n",
       "      <th></th>\n",
       "      <th>mac;time;vlx</th>\n",
       "      <th>source_file</th>\n",
       "    </tr>\n",
       "  </thead>\n",
       "  <tbody>\n",
       "    <tr>\n",
       "      <th>0</th>\n",
       "      <td>40:22:D8:F1:E3:80;2025/07/15 12:07:07;286.00</td>\n",
       "      <td>data_drive\\LS3\\silos_vlx_0.csv</td>\n",
       "    </tr>\n",
       "    <tr>\n",
       "      <th>1</th>\n",
       "      <td>40:22:D8:F1:E3:80;2025/07/15 12:37:08;298.00</td>\n",
       "      <td>data_drive\\LS3\\silos_vlx_0.csv</td>\n",
       "    </tr>\n",
       "    <tr>\n",
       "      <th>2</th>\n",
       "      <td>40:22:D8:F1:E3:80;2025/07/15 13:07:10;296.00</td>\n",
       "      <td>data_drive\\LS3\\silos_vlx_0.csv</td>\n",
       "    </tr>\n",
       "    <tr>\n",
       "      <th>3</th>\n",
       "      <td>40:22:D8:F1:E3:80;2025/07/15 13:37:11;297.00</td>\n",
       "      <td>data_drive\\LS3\\silos_vlx_0.csv</td>\n",
       "    </tr>\n",
       "    <tr>\n",
       "      <th>4</th>\n",
       "      <td>40:22:D8:F1:E3:80;2025/07/15 14:07:13;303.00</td>\n",
       "      <td>data_drive\\LS3\\silos_vlx_0.csv</td>\n",
       "    </tr>\n",
       "    <tr>\n",
       "      <th>5</th>\n",
       "      <td>40:22:D8:F1:E3:80;2025/07/15 14:37:14;296.00</td>\n",
       "      <td>data_drive\\LS3\\silos_vlx_0.csv</td>\n",
       "    </tr>\n",
       "    <tr>\n",
       "      <th>6</th>\n",
       "      <td>40:22:D8:F1:E3:80;2025/07/15 15:07:16;296.00</td>\n",
       "      <td>data_drive\\LS3\\silos_vlx_0.csv</td>\n",
       "    </tr>\n",
       "    <tr>\n",
       "      <th>7</th>\n",
       "      <td>40:22:D8:F1:E3:80;2025/07/15 15:37:17;294.00</td>\n",
       "      <td>data_drive\\LS3\\silos_vlx_0.csv</td>\n",
       "    </tr>\n",
       "    <tr>\n",
       "      <th>8</th>\n",
       "      <td>40:22:D8:F1:E3:80;2025/07/15 16:07:19;292.00</td>\n",
       "      <td>data_drive\\LS3\\silos_vlx_0.csv</td>\n",
       "    </tr>\n",
       "    <tr>\n",
       "      <th>9</th>\n",
       "      <td>40:22:D8:F1:E3:80;2025/07/15 16:37:20;286.00</td>\n",
       "      <td>data_drive\\LS3\\silos_vlx_0.csv</td>\n",
       "    </tr>\n",
       "  </tbody>\n",
       "</table>\n",
       "</div>"
      ],
      "text/plain": [
       "                                   mac;time;vlx  \\\n",
       "0  40:22:D8:F1:E3:80;2025/07/15 12:07:07;286.00   \n",
       "1  40:22:D8:F1:E3:80;2025/07/15 12:37:08;298.00   \n",
       "2  40:22:D8:F1:E3:80;2025/07/15 13:07:10;296.00   \n",
       "3  40:22:D8:F1:E3:80;2025/07/15 13:37:11;297.00   \n",
       "4  40:22:D8:F1:E3:80;2025/07/15 14:07:13;303.00   \n",
       "5  40:22:D8:F1:E3:80;2025/07/15 14:37:14;296.00   \n",
       "6  40:22:D8:F1:E3:80;2025/07/15 15:07:16;296.00   \n",
       "7  40:22:D8:F1:E3:80;2025/07/15 15:37:17;294.00   \n",
       "8  40:22:D8:F1:E3:80;2025/07/15 16:07:19;292.00   \n",
       "9  40:22:D8:F1:E3:80;2025/07/15 16:37:20;286.00   \n",
       "\n",
       "                      source_file  \n",
       "0  data_drive\\LS3\\silos_vlx_0.csv  \n",
       "1  data_drive\\LS3\\silos_vlx_0.csv  \n",
       "2  data_drive\\LS3\\silos_vlx_0.csv  \n",
       "3  data_drive\\LS3\\silos_vlx_0.csv  \n",
       "4  data_drive\\LS3\\silos_vlx_0.csv  \n",
       "5  data_drive\\LS3\\silos_vlx_0.csv  \n",
       "6  data_drive\\LS3\\silos_vlx_0.csv  \n",
       "7  data_drive\\LS3\\silos_vlx_0.csv  \n",
       "8  data_drive\\LS3\\silos_vlx_0.csv  \n",
       "9  data_drive\\LS3\\silos_vlx_0.csv  "
      ]
     },
     "metadata": {},
     "output_type": "display_data"
    },
    {
     "name": "stdout",
     "output_type": "stream",
     "text": [
      "\n",
      "=== Vista previa df_ls4 ===\n"
     ]
    },
    {
     "data": {
      "application/vnd.microsoft.datawrangler.viewer.v0+json": {
       "columns": [
        {
         "name": "index",
         "rawType": "int64",
         "type": "integer"
        },
        {
         "name": "mac;time;vlx",
         "rawType": "object",
         "type": "string"
        },
        {
         "name": "source_file",
         "rawType": "object",
         "type": "string"
        }
       ],
       "ref": "94823a69-a34b-4b50-aa1f-6df87265aab8",
       "rows": [
        [
         "0",
         "B8:D6:1A:60:95:30;2024/06/14 00:01:00;337.00",
         "data_drive\\LS4\\silos_vlx_0.csv"
        ],
        [
         "1",
         "B8:D6:1A:60:95:30;2024/06/14 00:01:02;349.00",
         "data_drive\\LS4\\silos_vlx_0.csv"
        ],
        [
         "2",
         "B8:D6:1A:60:95:30;2024/06/14 00:01:00;352.00",
         "data_drive\\LS4\\silos_vlx_0.csv"
        ],
        [
         "3",
         "B8:D6:1A:60:95:30;2024/06/14 00:01:01;354.00",
         "data_drive\\LS4\\silos_vlx_0.csv"
        ],
        [
         "4",
         "B8:D6:1A:60:95:30;2024/06/14 00:01:03;344.00",
         "data_drive\\LS4\\silos_vlx_0.csv"
        ],
        [
         "5",
         "B8:D6:1A:60:95:30;2024/06/14 00:01:00;342.00",
         "data_drive\\LS4\\silos_vlx_0.csv"
        ],
        [
         "6",
         "B8:D6:1A:60:95:30;2024/06/14 00:01:00;346.00",
         "data_drive\\LS4\\silos_vlx_0.csv"
        ],
        [
         "7",
         "B8:D6:1A:60:95:30;2024/06/14 00:01:01;346.00",
         "data_drive\\LS4\\silos_vlx_0.csv"
        ],
        [
         "8",
         "B8:D6:1A:60:95:30;2024/06/14 00:01:03;349.00",
         "data_drive\\LS4\\silos_vlx_0.csv"
        ],
        [
         "9",
         "B8:D6:1A:60:95:30;2024/06/14 00:01:00;345.00",
         "data_drive\\LS4\\silos_vlx_0.csv"
        ]
       ],
       "shape": {
        "columns": 2,
        "rows": 10
       }
      },
      "text/html": [
       "<div>\n",
       "<style scoped>\n",
       "    .dataframe tbody tr th:only-of-type {\n",
       "        vertical-align: middle;\n",
       "    }\n",
       "\n",
       "    .dataframe tbody tr th {\n",
       "        vertical-align: top;\n",
       "    }\n",
       "\n",
       "    .dataframe thead th {\n",
       "        text-align: right;\n",
       "    }\n",
       "</style>\n",
       "<table border=\"1\" class=\"dataframe\">\n",
       "  <thead>\n",
       "    <tr style=\"text-align: right;\">\n",
       "      <th></th>\n",
       "      <th>mac;time;vlx</th>\n",
       "      <th>source_file</th>\n",
       "    </tr>\n",
       "  </thead>\n",
       "  <tbody>\n",
       "    <tr>\n",
       "      <th>0</th>\n",
       "      <td>B8:D6:1A:60:95:30;2024/06/14 00:01:00;337.00</td>\n",
       "      <td>data_drive\\LS4\\silos_vlx_0.csv</td>\n",
       "    </tr>\n",
       "    <tr>\n",
       "      <th>1</th>\n",
       "      <td>B8:D6:1A:60:95:30;2024/06/14 00:01:02;349.00</td>\n",
       "      <td>data_drive\\LS4\\silos_vlx_0.csv</td>\n",
       "    </tr>\n",
       "    <tr>\n",
       "      <th>2</th>\n",
       "      <td>B8:D6:1A:60:95:30;2024/06/14 00:01:00;352.00</td>\n",
       "      <td>data_drive\\LS4\\silos_vlx_0.csv</td>\n",
       "    </tr>\n",
       "    <tr>\n",
       "      <th>3</th>\n",
       "      <td>B8:D6:1A:60:95:30;2024/06/14 00:01:01;354.00</td>\n",
       "      <td>data_drive\\LS4\\silos_vlx_0.csv</td>\n",
       "    </tr>\n",
       "    <tr>\n",
       "      <th>4</th>\n",
       "      <td>B8:D6:1A:60:95:30;2024/06/14 00:01:03;344.00</td>\n",
       "      <td>data_drive\\LS4\\silos_vlx_0.csv</td>\n",
       "    </tr>\n",
       "    <tr>\n",
       "      <th>5</th>\n",
       "      <td>B8:D6:1A:60:95:30;2024/06/14 00:01:00;342.00</td>\n",
       "      <td>data_drive\\LS4\\silos_vlx_0.csv</td>\n",
       "    </tr>\n",
       "    <tr>\n",
       "      <th>6</th>\n",
       "      <td>B8:D6:1A:60:95:30;2024/06/14 00:01:00;346.00</td>\n",
       "      <td>data_drive\\LS4\\silos_vlx_0.csv</td>\n",
       "    </tr>\n",
       "    <tr>\n",
       "      <th>7</th>\n",
       "      <td>B8:D6:1A:60:95:30;2024/06/14 00:01:01;346.00</td>\n",
       "      <td>data_drive\\LS4\\silos_vlx_0.csv</td>\n",
       "    </tr>\n",
       "    <tr>\n",
       "      <th>8</th>\n",
       "      <td>B8:D6:1A:60:95:30;2024/06/14 00:01:03;349.00</td>\n",
       "      <td>data_drive\\LS4\\silos_vlx_0.csv</td>\n",
       "    </tr>\n",
       "    <tr>\n",
       "      <th>9</th>\n",
       "      <td>B8:D6:1A:60:95:30;2024/06/14 00:01:00;345.00</td>\n",
       "      <td>data_drive\\LS4\\silos_vlx_0.csv</td>\n",
       "    </tr>\n",
       "  </tbody>\n",
       "</table>\n",
       "</div>"
      ],
      "text/plain": [
       "                                   mac;time;vlx  \\\n",
       "0  B8:D6:1A:60:95:30;2024/06/14 00:01:00;337.00   \n",
       "1  B8:D6:1A:60:95:30;2024/06/14 00:01:02;349.00   \n",
       "2  B8:D6:1A:60:95:30;2024/06/14 00:01:00;352.00   \n",
       "3  B8:D6:1A:60:95:30;2024/06/14 00:01:01;354.00   \n",
       "4  B8:D6:1A:60:95:30;2024/06/14 00:01:03;344.00   \n",
       "5  B8:D6:1A:60:95:30;2024/06/14 00:01:00;342.00   \n",
       "6  B8:D6:1A:60:95:30;2024/06/14 00:01:00;346.00   \n",
       "7  B8:D6:1A:60:95:30;2024/06/14 00:01:01;346.00   \n",
       "8  B8:D6:1A:60:95:30;2024/06/14 00:01:03;349.00   \n",
       "9  B8:D6:1A:60:95:30;2024/06/14 00:01:00;345.00   \n",
       "\n",
       "                      source_file  \n",
       "0  data_drive\\LS4\\silos_vlx_0.csv  \n",
       "1  data_drive\\LS4\\silos_vlx_0.csv  \n",
       "2  data_drive\\LS4\\silos_vlx_0.csv  \n",
       "3  data_drive\\LS4\\silos_vlx_0.csv  \n",
       "4  data_drive\\LS4\\silos_vlx_0.csv  \n",
       "5  data_drive\\LS4\\silos_vlx_0.csv  \n",
       "6  data_drive\\LS4\\silos_vlx_0.csv  \n",
       "7  data_drive\\LS4\\silos_vlx_0.csv  \n",
       "8  data_drive\\LS4\\silos_vlx_0.csv  \n",
       "9  data_drive\\LS4\\silos_vlx_0.csv  "
      ]
     },
     "metadata": {},
     "output_type": "display_data"
    },
    {
     "name": "stdout",
     "output_type": "stream",
     "text": [
      "\n",
      "=== Vista previa df_ls5 ===\n"
     ]
    },
    {
     "data": {
      "application/vnd.microsoft.datawrangler.viewer.v0+json": {
       "columns": [
        {
         "name": "index",
         "rawType": "int64",
         "type": "integer"
        },
        {
         "name": "mac;time;vlx",
         "rawType": "object",
         "type": "string"
        },
        {
         "name": "source_file",
         "rawType": "object",
         "type": "string"
        }
       ],
       "ref": "6d62f779-02e4-49d0-89d5-8266f5ddafd4",
       "rows": [
        [
         "0",
         "B8:D6:1A:60:94:1C;2025/07/15 11:17:12;328.00",
         "data_drive\\LS5\\silos_vlx_0.csv"
        ],
        [
         "1",
         "B8:D6:1A:60:94:1C;2025/07/15 11:47:13;330.00",
         "data_drive\\LS5\\silos_vlx_0.csv"
        ],
        [
         "2",
         "B8:D6:1A:60:94:1C;2025/07/15 12:17:15;333.00",
         "data_drive\\LS5\\silos_vlx_0.csv"
        ],
        [
         "3",
         "B8:D6:1A:60:94:1C;2025/07/15 12:47:17;339.00",
         "data_drive\\LS5\\silos_vlx_0.csv"
        ],
        [
         "4",
         "B8:D6:1A:60:94:1C;2025/07/15 13:17:18;338.00",
         "data_drive\\LS5\\silos_vlx_0.csv"
        ],
        [
         "5",
         "B8:D6:1A:60:94:1C;2025/07/15 13:47:20;342.00",
         "data_drive\\LS5\\silos_vlx_0.csv"
        ],
        [
         "6",
         "B8:D6:1A:60:94:1C;2025/07/15 14:17:21;335.00",
         "data_drive\\LS5\\silos_vlx_0.csv"
        ],
        [
         "7",
         "B8:D6:1A:60:94:1C;2025/07/15 14:47:23;335.00",
         "data_drive\\LS5\\silos_vlx_0.csv"
        ],
        [
         "8",
         "B8:D6:1A:60:94:1C;2025/07/15 15:17:24;334.00",
         "data_drive\\LS5\\silos_vlx_0.csv"
        ],
        [
         "9",
         "B8:D6:1A:60:94:1C;2025/07/15 15:47:26;331.00",
         "data_drive\\LS5\\silos_vlx_0.csv"
        ]
       ],
       "shape": {
        "columns": 2,
        "rows": 10
       }
      },
      "text/html": [
       "<div>\n",
       "<style scoped>\n",
       "    .dataframe tbody tr th:only-of-type {\n",
       "        vertical-align: middle;\n",
       "    }\n",
       "\n",
       "    .dataframe tbody tr th {\n",
       "        vertical-align: top;\n",
       "    }\n",
       "\n",
       "    .dataframe thead th {\n",
       "        text-align: right;\n",
       "    }\n",
       "</style>\n",
       "<table border=\"1\" class=\"dataframe\">\n",
       "  <thead>\n",
       "    <tr style=\"text-align: right;\">\n",
       "      <th></th>\n",
       "      <th>mac;time;vlx</th>\n",
       "      <th>source_file</th>\n",
       "    </tr>\n",
       "  </thead>\n",
       "  <tbody>\n",
       "    <tr>\n",
       "      <th>0</th>\n",
       "      <td>B8:D6:1A:60:94:1C;2025/07/15 11:17:12;328.00</td>\n",
       "      <td>data_drive\\LS5\\silos_vlx_0.csv</td>\n",
       "    </tr>\n",
       "    <tr>\n",
       "      <th>1</th>\n",
       "      <td>B8:D6:1A:60:94:1C;2025/07/15 11:47:13;330.00</td>\n",
       "      <td>data_drive\\LS5\\silos_vlx_0.csv</td>\n",
       "    </tr>\n",
       "    <tr>\n",
       "      <th>2</th>\n",
       "      <td>B8:D6:1A:60:94:1C;2025/07/15 12:17:15;333.00</td>\n",
       "      <td>data_drive\\LS5\\silos_vlx_0.csv</td>\n",
       "    </tr>\n",
       "    <tr>\n",
       "      <th>3</th>\n",
       "      <td>B8:D6:1A:60:94:1C;2025/07/15 12:47:17;339.00</td>\n",
       "      <td>data_drive\\LS5\\silos_vlx_0.csv</td>\n",
       "    </tr>\n",
       "    <tr>\n",
       "      <th>4</th>\n",
       "      <td>B8:D6:1A:60:94:1C;2025/07/15 13:17:18;338.00</td>\n",
       "      <td>data_drive\\LS5\\silos_vlx_0.csv</td>\n",
       "    </tr>\n",
       "    <tr>\n",
       "      <th>5</th>\n",
       "      <td>B8:D6:1A:60:94:1C;2025/07/15 13:47:20;342.00</td>\n",
       "      <td>data_drive\\LS5\\silos_vlx_0.csv</td>\n",
       "    </tr>\n",
       "    <tr>\n",
       "      <th>6</th>\n",
       "      <td>B8:D6:1A:60:94:1C;2025/07/15 14:17:21;335.00</td>\n",
       "      <td>data_drive\\LS5\\silos_vlx_0.csv</td>\n",
       "    </tr>\n",
       "    <tr>\n",
       "      <th>7</th>\n",
       "      <td>B8:D6:1A:60:94:1C;2025/07/15 14:47:23;335.00</td>\n",
       "      <td>data_drive\\LS5\\silos_vlx_0.csv</td>\n",
       "    </tr>\n",
       "    <tr>\n",
       "      <th>8</th>\n",
       "      <td>B8:D6:1A:60:94:1C;2025/07/15 15:17:24;334.00</td>\n",
       "      <td>data_drive\\LS5\\silos_vlx_0.csv</td>\n",
       "    </tr>\n",
       "    <tr>\n",
       "      <th>9</th>\n",
       "      <td>B8:D6:1A:60:94:1C;2025/07/15 15:47:26;331.00</td>\n",
       "      <td>data_drive\\LS5\\silos_vlx_0.csv</td>\n",
       "    </tr>\n",
       "  </tbody>\n",
       "</table>\n",
       "</div>"
      ],
      "text/plain": [
       "                                   mac;time;vlx  \\\n",
       "0  B8:D6:1A:60:94:1C;2025/07/15 11:17:12;328.00   \n",
       "1  B8:D6:1A:60:94:1C;2025/07/15 11:47:13;330.00   \n",
       "2  B8:D6:1A:60:94:1C;2025/07/15 12:17:15;333.00   \n",
       "3  B8:D6:1A:60:94:1C;2025/07/15 12:47:17;339.00   \n",
       "4  B8:D6:1A:60:94:1C;2025/07/15 13:17:18;338.00   \n",
       "5  B8:D6:1A:60:94:1C;2025/07/15 13:47:20;342.00   \n",
       "6  B8:D6:1A:60:94:1C;2025/07/15 14:17:21;335.00   \n",
       "7  B8:D6:1A:60:94:1C;2025/07/15 14:47:23;335.00   \n",
       "8  B8:D6:1A:60:94:1C;2025/07/15 15:17:24;334.00   \n",
       "9  B8:D6:1A:60:94:1C;2025/07/15 15:47:26;331.00   \n",
       "\n",
       "                      source_file  \n",
       "0  data_drive\\LS5\\silos_vlx_0.csv  \n",
       "1  data_drive\\LS5\\silos_vlx_0.csv  \n",
       "2  data_drive\\LS5\\silos_vlx_0.csv  \n",
       "3  data_drive\\LS5\\silos_vlx_0.csv  \n",
       "4  data_drive\\LS5\\silos_vlx_0.csv  \n",
       "5  data_drive\\LS5\\silos_vlx_0.csv  \n",
       "6  data_drive\\LS5\\silos_vlx_0.csv  \n",
       "7  data_drive\\LS5\\silos_vlx_0.csv  \n",
       "8  data_drive\\LS5\\silos_vlx_0.csv  \n",
       "9  data_drive\\LS5\\silos_vlx_0.csv  "
      ]
     },
     "metadata": {},
     "output_type": "display_data"
    },
    {
     "name": "stdout",
     "output_type": "stream",
     "text": [
      "\n",
      "=== Vista previa df_ls6 ===\n"
     ]
    },
    {
     "data": {
      "application/vnd.microsoft.datawrangler.viewer.v0+json": {
       "columns": [
        {
         "name": "index",
         "rawType": "int64",
         "type": "integer"
        },
        {
         "name": "mac;time;vlx",
         "rawType": "object",
         "type": "string"
        },
        {
         "name": "source_file",
         "rawType": "object",
         "type": "string"
        }
       ],
       "ref": "a3d260f6-862f-4d92-ba60-63313b4f64fb",
       "rows": [
        [
         "0",
         "D8:13:2A:D2:36:B4;2025/07/15 11:17:11;364.00",
         "data_drive\\LS6\\silos_vlx_0.csv"
        ],
        [
         "1",
         "D8:13:2A:D2:36:B4;2025/07/15 11:33:22;374.00",
         "data_drive\\LS6\\silos_vlx_1.csv"
        ],
        [
         "2",
         "D8:13:2A:D2:36:B4;2025/07/30 17:58:37;373.00",
         "data_drive\\LS6\\silos_vlx_10.csv"
        ],
        [
         "3",
         "D8:13:2A:D2:36:B4;2025/07/30 18:08:37;381.00",
         "data_drive\\LS6\\silos_vlx_11.csv"
        ],
        [
         "4",
         "D8:13:2A:D2:36:B4;2025/07/30 18:18:37;391.00",
         "data_drive\\LS6\\silos_vlx_12.csv"
        ],
        [
         "5",
         "D8:13:2A:D2:36:B4;2025/08/06 11:08:39;236.00",
         "data_drive\\LS6\\silos_vlx_13.csv"
        ],
        [
         "6",
         "D8:13:2A:D2:36:B4;2025/08/06 11:20:27;230.00",
         "data_drive\\LS6\\silos_vlx_14.csv"
        ],
        [
         "7",
         "D8:13:2A:D2:36:B4;2025/08/06 11:34:13;229.00",
         "data_drive\\LS6\\silos_vlx_15.csv"
        ],
        [
         "8",
         "D8:13:2A:D2:36:B4;2025/07/15 11:46:09;371.00",
         "data_drive\\LS6\\silos_vlx_2.csv"
        ],
        [
         "9",
         "D8:13:2A:D2:36:B4;2025/07/15 11:58:16;378.00",
         "data_drive\\LS6\\silos_vlx_3.csv"
        ]
       ],
       "shape": {
        "columns": 2,
        "rows": 10
       }
      },
      "text/html": [
       "<div>\n",
       "<style scoped>\n",
       "    .dataframe tbody tr th:only-of-type {\n",
       "        vertical-align: middle;\n",
       "    }\n",
       "\n",
       "    .dataframe tbody tr th {\n",
       "        vertical-align: top;\n",
       "    }\n",
       "\n",
       "    .dataframe thead th {\n",
       "        text-align: right;\n",
       "    }\n",
       "</style>\n",
       "<table border=\"1\" class=\"dataframe\">\n",
       "  <thead>\n",
       "    <tr style=\"text-align: right;\">\n",
       "      <th></th>\n",
       "      <th>mac;time;vlx</th>\n",
       "      <th>source_file</th>\n",
       "    </tr>\n",
       "  </thead>\n",
       "  <tbody>\n",
       "    <tr>\n",
       "      <th>0</th>\n",
       "      <td>D8:13:2A:D2:36:B4;2025/07/15 11:17:11;364.00</td>\n",
       "      <td>data_drive\\LS6\\silos_vlx_0.csv</td>\n",
       "    </tr>\n",
       "    <tr>\n",
       "      <th>1</th>\n",
       "      <td>D8:13:2A:D2:36:B4;2025/07/15 11:33:22;374.00</td>\n",
       "      <td>data_drive\\LS6\\silos_vlx_1.csv</td>\n",
       "    </tr>\n",
       "    <tr>\n",
       "      <th>2</th>\n",
       "      <td>D8:13:2A:D2:36:B4;2025/07/30 17:58:37;373.00</td>\n",
       "      <td>data_drive\\LS6\\silos_vlx_10.csv</td>\n",
       "    </tr>\n",
       "    <tr>\n",
       "      <th>3</th>\n",
       "      <td>D8:13:2A:D2:36:B4;2025/07/30 18:08:37;381.00</td>\n",
       "      <td>data_drive\\LS6\\silos_vlx_11.csv</td>\n",
       "    </tr>\n",
       "    <tr>\n",
       "      <th>4</th>\n",
       "      <td>D8:13:2A:D2:36:B4;2025/07/30 18:18:37;391.00</td>\n",
       "      <td>data_drive\\LS6\\silos_vlx_12.csv</td>\n",
       "    </tr>\n",
       "    <tr>\n",
       "      <th>5</th>\n",
       "      <td>D8:13:2A:D2:36:B4;2025/08/06 11:08:39;236.00</td>\n",
       "      <td>data_drive\\LS6\\silos_vlx_13.csv</td>\n",
       "    </tr>\n",
       "    <tr>\n",
       "      <th>6</th>\n",
       "      <td>D8:13:2A:D2:36:B4;2025/08/06 11:20:27;230.00</td>\n",
       "      <td>data_drive\\LS6\\silos_vlx_14.csv</td>\n",
       "    </tr>\n",
       "    <tr>\n",
       "      <th>7</th>\n",
       "      <td>D8:13:2A:D2:36:B4;2025/08/06 11:34:13;229.00</td>\n",
       "      <td>data_drive\\LS6\\silos_vlx_15.csv</td>\n",
       "    </tr>\n",
       "    <tr>\n",
       "      <th>8</th>\n",
       "      <td>D8:13:2A:D2:36:B4;2025/07/15 11:46:09;371.00</td>\n",
       "      <td>data_drive\\LS6\\silos_vlx_2.csv</td>\n",
       "    </tr>\n",
       "    <tr>\n",
       "      <th>9</th>\n",
       "      <td>D8:13:2A:D2:36:B4;2025/07/15 11:58:16;378.00</td>\n",
       "      <td>data_drive\\LS6\\silos_vlx_3.csv</td>\n",
       "    </tr>\n",
       "  </tbody>\n",
       "</table>\n",
       "</div>"
      ],
      "text/plain": [
       "                                   mac;time;vlx  \\\n",
       "0  D8:13:2A:D2:36:B4;2025/07/15 11:17:11;364.00   \n",
       "1  D8:13:2A:D2:36:B4;2025/07/15 11:33:22;374.00   \n",
       "2  D8:13:2A:D2:36:B4;2025/07/30 17:58:37;373.00   \n",
       "3  D8:13:2A:D2:36:B4;2025/07/30 18:08:37;381.00   \n",
       "4  D8:13:2A:D2:36:B4;2025/07/30 18:18:37;391.00   \n",
       "5  D8:13:2A:D2:36:B4;2025/08/06 11:08:39;236.00   \n",
       "6  D8:13:2A:D2:36:B4;2025/08/06 11:20:27;230.00   \n",
       "7  D8:13:2A:D2:36:B4;2025/08/06 11:34:13;229.00   \n",
       "8  D8:13:2A:D2:36:B4;2025/07/15 11:46:09;371.00   \n",
       "9  D8:13:2A:D2:36:B4;2025/07/15 11:58:16;378.00   \n",
       "\n",
       "                       source_file  \n",
       "0   data_drive\\LS6\\silos_vlx_0.csv  \n",
       "1   data_drive\\LS6\\silos_vlx_1.csv  \n",
       "2  data_drive\\LS6\\silos_vlx_10.csv  \n",
       "3  data_drive\\LS6\\silos_vlx_11.csv  \n",
       "4  data_drive\\LS6\\silos_vlx_12.csv  \n",
       "5  data_drive\\LS6\\silos_vlx_13.csv  \n",
       "6  data_drive\\LS6\\silos_vlx_14.csv  \n",
       "7  data_drive\\LS6\\silos_vlx_15.csv  \n",
       "8   data_drive\\LS6\\silos_vlx_2.csv  \n",
       "9   data_drive\\LS6\\silos_vlx_3.csv  "
      ]
     },
     "metadata": {},
     "output_type": "display_data"
    }
   ],
   "source": [
    "\n",
    "# %% [previews]\n",
    "from itertools import islice\n",
    "\n",
    "for clave, df in dfs_por_ls.items():\n",
    "    print(f\"\\n=== Vista previa df_{clave} ===\")\n",
    "    display(df.head(10))\n"
   ]
  },
  {
   "cell_type": "code",
   "execution_count": 7,
   "id": "08fa062f",
   "metadata": {},
   "outputs": [
    {
     "name": "stderr",
     "output_type": "stream",
     "text": [
      "14:15:48 | WARNING | Cabecera inesperada: ['40:22:D8:F1:E3:70', '2025/07/15 11:44:19', '316.00'] -> se usará igualmente\n",
      "14:15:48 | INFO | Procesado: ls1.parquet | primera_col=mac;time;vlx | shape (1059, 2) -> (1058, 4)\n",
      "14:15:48 | WARNING | Cabecera inesperada: ['40:22:D8:F1:E2:CC', '2025/07/15 11:44:46', '272.00'] -> se usará igualmente\n",
      "14:15:48 | INFO | Procesado: ls2.parquet | primera_col=mac;time;vlx | shape (903, 2) -> (902, 4)\n",
      "14:15:48 | WARNING | Cabecera inesperada: ['40:22:D8:F1:E3:80', '2025/07/15 12:07:07', '286.00'] -> se usará igualmente\n",
      "14:15:48 | INFO | Procesado: ls3.parquet | primera_col=mac;time;vlx | shape (1057, 2) -> (1056, 4)\n",
      "14:15:48 | WARNING | Cabecera inesperada: ['B8:D6:1A:60:95:30', '2024/06/14 00:01:00', '337.00'] -> se usará igualmente\n",
      "14:15:48 | INFO | Procesado: ls4.parquet | primera_col=mac;time;vlx | shape (1057, 2) -> (1056, 4)\n",
      "14:15:48 | WARNING | Cabecera inesperada: ['B8:D6:1A:60:94:1C', '2025/07/15 11:17:12', '328.00'] -> se usará igualmente\n",
      "14:15:48 | INFO | Procesado: ls5.parquet | primera_col=mac;time;vlx | shape (1059, 2) -> (1058, 4)\n",
      "14:15:48 | WARNING | Cabecera inesperada: ['D8:13:2A:D2:36:B4', '2025/07/15 11:17:11', '364.00'] -> se usará igualmente\n",
      "14:15:48 | INFO | Procesado: ls6.parquet | primera_col=mac;time;vlx | shape (16, 2) -> (15, 4)\n"
     ]
    },
    {
     "name": "stdout",
     "output_type": "stream",
     "text": [
      "\n",
      "Resumen de archivos transformados:\n",
      "- ls1.parquet: 'mac;time;vlx' -> columnas [mac, time, vlx, source_file] | (1059, 2) -> (1058, 4) | guardado en: data_drive\\_parquet_export\\split\\ls1.parquet\n",
      "- ls2.parquet: 'mac;time;vlx' -> columnas [mac, time, vlx, source_file] | (903, 2) -> (902, 4) | guardado en: data_drive\\_parquet_export\\split\\ls2.parquet\n",
      "- ls3.parquet: 'mac;time;vlx' -> columnas [mac, time, vlx, source_file] | (1057, 2) -> (1056, 4) | guardado en: data_drive\\_parquet_export\\split\\ls3.parquet\n",
      "- ls4.parquet: 'mac;time;vlx' -> columnas [mac, time, vlx, source_file] | (1057, 2) -> (1056, 4) | guardado en: data_drive\\_parquet_export\\split\\ls4.parquet\n",
      "- ls5.parquet: 'mac;time;vlx' -> columnas [mac, time, vlx, source_file] | (1059, 2) -> (1058, 4) | guardado en: data_drive\\_parquet_export\\split\\ls5.parquet\n",
      "- ls6.parquet: 'mac;time;vlx' -> columnas [mac, time, vlx, source_file] | (16, 2) -> (15, 4) | guardado en: data_drive\\_parquet_export\\split\\ls6.parquet\n"
     ]
    }
   ],
   "source": []
  },
  {
   "cell_type": "code",
   "execution_count": 8,
   "id": "8dae4971",
   "metadata": {},
   "outputs": [
    {
     "name": "stderr",
     "output_type": "stream",
     "text": [
      "14:17:49 | INFO | Procesado: ls1.parquet | primera_col=mac;time;vlx | shape (1059, 2) -> (1058, 4)\n",
      "14:17:49 | INFO | Procesado: ls2.parquet | primera_col=mac;time;vlx | shape (903, 2) -> (902, 4)\n",
      "14:17:49 | INFO | Procesado: ls3.parquet | primera_col=mac;time;vlx | shape (1057, 2) -> (1056, 4)\n",
      "14:17:49 | INFO | Procesado: ls4.parquet | primera_col=mac;time;vlx | shape (1057, 2) -> (1056, 4)\n",
      "14:17:49 | INFO | Procesado: ls5.parquet | primera_col=mac;time;vlx | shape (1059, 2) -> (1058, 4)\n",
      "14:17:49 | INFO | Procesado: ls6.parquet | primera_col=mac;time;vlx | shape (16, 2) -> (15, 4)\n",
      "14:17:49 | ERROR | Error procesando data_drive\\_parquet_export\\split\\ls1.parquet: Length mismatch: Expected axis has 1 elements, new values have 3 elements\n",
      "14:17:49 | ERROR | Error procesando data_drive\\_parquet_export\\split\\ls2.parquet: Length mismatch: Expected axis has 1 elements, new values have 3 elements\n",
      "14:17:49 | ERROR | Error procesando data_drive\\_parquet_export\\split\\ls3.parquet: Length mismatch: Expected axis has 1 elements, new values have 3 elements\n",
      "14:17:49 | ERROR | Error procesando data_drive\\_parquet_export\\split\\ls4.parquet: Length mismatch: Expected axis has 1 elements, new values have 3 elements\n",
      "14:17:49 | ERROR | Error procesando data_drive\\_parquet_export\\split\\ls5.parquet: Length mismatch: Expected axis has 1 elements, new values have 3 elements\n",
      "14:17:49 | ERROR | Error procesando data_drive\\_parquet_export\\split\\ls6.parquet: Length mismatch: Expected axis has 1 elements, new values have 3 elements\n"
     ]
    },
    {
     "name": "stdout",
     "output_type": "stream",
     "text": [
      "\n",
      "Resumen de archivos transformados:\n",
      "- ls1.parquet: 'mac;time;vlx' -> columnas [mac, time, vlx, source_file] | (1059, 2) -> (1058, 4) | guardado en: data_drive\\_parquet_export\\split\\ls1.parquet\n",
      "- ls2.parquet: 'mac;time;vlx' -> columnas [mac, time, vlx, source_file] | (903, 2) -> (902, 4) | guardado en: data_drive\\_parquet_export\\split\\ls2.parquet\n",
      "- ls3.parquet: 'mac;time;vlx' -> columnas [mac, time, vlx, source_file] | (1057, 2) -> (1056, 4) | guardado en: data_drive\\_parquet_export\\split\\ls3.parquet\n",
      "- ls4.parquet: 'mac;time;vlx' -> columnas [mac, time, vlx, source_file] | (1057, 2) -> (1056, 4) | guardado en: data_drive\\_parquet_export\\split\\ls4.parquet\n",
      "- ls5.parquet: 'mac;time;vlx' -> columnas [mac, time, vlx, source_file] | (1059, 2) -> (1058, 4) | guardado en: data_drive\\_parquet_export\\split\\ls5.parquet\n",
      "- ls6.parquet: 'mac;time;vlx' -> columnas [mac, time, vlx, source_file] | (16, 2) -> (15, 4) | guardado en: data_drive\\_parquet_export\\split\\ls6.parquet\n"
     ]
    }
   ],
   "source": [
    "# %% Separar primera columna en columnas mac, time, vlx en todos los .parquet\n",
    "from __future__ import annotations\n",
    "from pathlib import Path\n",
    "import pandas as pd\n",
    "import logging\n",
    "\n",
    "# Configuración de rutas\n",
    "IN_DIR = Path(\"data_drive/_parquet_export\")   # carpeta donde están los .parquet originales\n",
    "OUT_DIR = IN_DIR / \"split\"                    # salida con los .parquet transformados\n",
    "OUT_DIR.mkdir(parents=True, exist_ok=True)\n",
    "\n",
    "# Logging\n",
    "logging.basicConfig(\n",
    "    level=logging.INFO,\n",
    "    format=\"%(asctime)s | %(levelname)s | %(message)s\",\n",
    "    datefmt=\"%H:%M:%S\",\n",
    ")\n",
    "\n",
    "def split_first_col_to_mac_time_vlx(df: pd.DataFrame, sep: str = \";\") -> pd.DataFrame:\n",
    "    \"\"\"\n",
    "    Convierte la primera columna del DataFrame en 3 columnas fijas: mac, time, vlx.\n",
    "    - Ignora el valor de cabecera embebido (ej. 'mac;time;vlx') en la primera fila.\n",
    "    - Elimina esa primera fila, ya que no contiene datos reales.\n",
    "    - Devuelve un DF con columnas: mac, time, vlx (+ source_file si existe).\n",
    "    \"\"\"\n",
    "    if df.shape[1] < 2:\n",
    "        raise ValueError(\"Se esperaba al menos 2 columnas: la combinada y source_file.\")\n",
    "\n",
    "    first_col = df.columns[0]\n",
    "    s = df[first_col].astype(\"string\")\n",
    "\n",
    "    # Separar toda la columna en 3 partes\n",
    "    parts = s.str.split(sep, n=2, expand=True)\n",
    "    parts.columns = [\"mac\", \"time\", \"vlx\"]\n",
    "\n",
    "    # Eliminar fila de cabecera\n",
    "    parts = parts.iloc[1:].reset_index(drop=True)\n",
    "    df_rest = df.drop(index=0).reset_index(drop=True)\n",
    "\n",
    "    # Ensamblar: mac, time, vlx + source_file (si existe)\n",
    "    if \"source_file\" in df_rest.columns:\n",
    "        out = pd.concat([parts, df_rest[[\"source_file\"]]], axis=1)\n",
    "    else:\n",
    "        out = parts\n",
    "\n",
    "    return out\n",
    "\n",
    "# Procesamiento masivo\n",
    "parquets = sorted(IN_DIR.rglob(\"*.parquet\"))\n",
    "if not parquets:\n",
    "    raise SystemExit(f\"No se encontraron .parquet en {IN_DIR.resolve()}\")\n",
    "\n",
    "resumen = []\n",
    "for p in parquets:\n",
    "    try:\n",
    "        df = pd.read_parquet(p)\n",
    "        first_col = df.columns[0] if df.shape[1] else \"<sin_columnas>\"\n",
    "        df_out = split_first_col_to_mac_time_vlx(df, sep=\";\")\n",
    "        out_path = OUT_DIR / p.name\n",
    "        df_out.to_parquet(out_path, index=False)\n",
    "        resumen.append((p.name, first_col, df.shape, df_out.shape, out_path))\n",
    "        logging.info(\"Procesado: %s | primera_col=%s | shape %s -> %s\",\n",
    "                     p.name, first_col, df.shape, df_out.shape)\n",
    "    except Exception as e:\n",
    "        logging.error(\"Error procesando %s: %s\", p, e)\n",
    "\n",
    "# Resumen final\n",
    "print(\"\\nResumen de archivos transformados:\")\n",
    "for name, first_col, in_shape, out_shape, out_path in resumen:\n",
    "    print(f\"- {name}: '{first_col}' -> columnas [mac, time, vlx, source_file] | {in_shape} -> {out_shape} | guardado en: {out_path}\")\n"
   ]
  },
  {
   "cell_type": "code",
   "execution_count": null,
   "id": "d51248fa",
   "metadata": {},
   "outputs": [],
   "source": []
  }
 ],
 "metadata": {
  "kernelspec": {
   "display_name": "Python 3",
   "language": "python",
   "name": "python3"
  },
  "language_info": {
   "codemirror_mode": {
    "name": "ipython",
    "version": 3
   },
   "file_extension": ".py",
   "mimetype": "text/x-python",
   "name": "python",
   "nbconvert_exporter": "python",
   "pygments_lexer": "ipython3",
   "version": "3.13.2"
  }
 },
 "nbformat": 4,
 "nbformat_minor": 5
}

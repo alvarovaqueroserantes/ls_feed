{
 "cells": [
  {
   "cell_type": "code",
   "execution_count": 1,
   "id": "5105583c",
   "metadata": {},
   "outputs": [
    {
     "name": "stdout",
     "output_type": "stream",
     "text": [
      "Archivo combinado guardado como: D:/ls_feed/data_drive/TS1_combinado.csv\n",
      "Archivo combinado guardado como: D:/ls_feed/data_drive/TS2_combinado.csv\n",
      "Archivo combinado guardado como: D:/ls_feed/data_drive/TS3_combinado.csv\n"
     ]
    }
   ],
   "source": [
    "import pandas as pd\n",
    "import os\n",
    "\n",
    "# Definir rutas de las carpetas\n",
    "carpetas = [\n",
    "    \"D:/ls_feed/data_drive/TS1\",\n",
    "    \"D:/ls_feed/data_drive/TS2\",\n",
    "    \"D:/ls_feed/data_drive/TS3\"\n",
    "]\n",
    "\n",
    "for carpeta in carpetas:\n",
    "    # Listar todos los archivos CSV en la carpeta\n",
    "    archivos = [os.path.join(carpeta, f) for f in os.listdir(carpeta) if f.endswith('.csv')]\n",
    "    \n",
    "    # Leer y combinar todos los archivos\n",
    "    datos_combinados = []\n",
    "    for archivo in archivos:\n",
    "        df = pd.read_csv(archivo, sep=';')\n",
    "        datos_combinados.append(df)\n",
    "    \n",
    "    # Combinar todos los DataFrames\n",
    "    if datos_combinados:\n",
    "        df_final = pd.concat(datos_combinados, ignore_index=True)\n",
    "        \n",
    "        # Guardar el archivo combinado en la misma carpeta\n",
    "        nombre_salida = f\"{carpeta}_combinado.csv\"\n",
    "        df_final.to_csv(nombre_salida, sep=';', index=False)\n",
    "        print(f\"Archivo combinado guardado como: {nombre_salida}\")\n",
    "    else:\n",
    "        print(f\"No se encontraron archivos CSV en {carpeta}\")"
   ]
  },
  {
   "cell_type": "code",
   "execution_count": null,
   "id": "e105ffae",
   "metadata": {},
   "outputs": [],
   "source": []
  }
 ],
 "metadata": {
  "kernelspec": {
   "display_name": "Python 3",
   "language": "python",
   "name": "python3"
  },
  "language_info": {
   "codemirror_mode": {
    "name": "ipython",
    "version": 3
   },
   "file_extension": ".py",
   "mimetype": "text/x-python",
   "name": "python",
   "nbconvert_exporter": "python",
   "pygments_lexer": "ipython3",
   "version": "3.13.2"
  }
 },
 "nbformat": 4,
 "nbformat_minor": 5
}
